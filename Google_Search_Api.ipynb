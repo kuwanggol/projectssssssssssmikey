{
  "cells": [
    {
      "cell_type": "markdown",
      "metadata": {
        "id": "view-in-github",
        "colab_type": "text"
      },
      "source": [
        "<a href=\"https://colab.research.google.com/github/kuwanggol/projectssssssssssmikey/blob/main/Google_Search_Api.ipynb\" target=\"_parent\"><img src=\"https://colab.research.google.com/assets/colab-badge.svg\" alt=\"Open In Colab\"/></a>"
      ]
    },
    {
      "cell_type": "code",
      "execution_count": null,
      "metadata": {
        "colab": {
          "base_uri": "https://localhost:8080/"
        },
        "id": "khETaNpCKBcf",
        "outputId": "85cb0388-6db7-41ad-b09c-33f594b6c1dc"
      },
      "outputs": [
        {
          "name": "stdout",
          "output_type": "stream",
          "text": [
            "{'searchParameters': {'q': 'allan peter', 'gl': 'us', 'hl': 'en', 'autocorrect': 'True', 'type': 'search'}, 'knowledgeGraph': {'title': 'Alan Peter Cayetano', 'type': 'Senator of the Philippines', 'website': 'https://simple.wikipedia.org/wiki/Alan_Peter_Cayetano', 'imageUrl': 'https://encrypted-tbn0.gstatic.com/images?q=tbn:ANd9GcSo4JKq6FZMJ1PKBwjS8NTDh-lVJzWvHbF316zeIah6v6oCyINHvd2ckw&s=0', 'description': 'Alan Peter Schramm Cayetano is a Filipino politician, lawyer, and diplomat serving as a Senator since 2022 and previously from 2007 to 2017. He was the Senate Minority Leader from 2010 to 2013, and later Senate Majority Leader from 2013 to 2016.', 'descriptionSource': 'Wikipedia', 'descriptionLink': 'https://en.wikipedia.org/wiki/Alan_Peter_Cayetano', 'attributes': {'Born': 'October 28, 1970 (age 51\\xa0years), Mandaluyong, Philippines', 'Spouse': 'Lani Cayetano (m. 2004)', 'Party': 'Lakas–CMD', 'Office': 'Senator of the Philippines since 2022', 'Education': 'Ateneo de Manila University (1997), University of the Philippines Diliman (1993), University of the Philippines System, and more', 'Previous offices': 'Speaker of the House of Representatives of the Philippines (2019–2020), Member of the Philippine House of Representatives (2019–2022), Secretary of Foreign Affairs of Philippines (2017–2018), and more', 'Siblings': 'Pia Cayetano and Lino Cayetano'}}, 'organic': [{'title': 'Alan Peter Cayetano - Wikipedia', 'link': 'https://en.wikipedia.org/wiki/Alan_Peter_Cayetano', 'snippet': 'Alan Peter Schramm Cayetano is a Filipino politician, lawyer, and diplomat serving as a Senator since 2022 and previously from 2007 to 2017.', 'sitelinks': [{'title': 'Early life', 'link': 'https://en.wikipedia.org/wiki/Alan_Peter_Cayetano#Early_life'}, {'title': 'Education', 'link': 'https://en.wikipedia.org/wiki/Alan_Peter_Cayetano#Education'}, {'title': 'Legislative accomplishments', 'link': 'https://en.wikipedia.org/wiki/Alan_Peter_Cayetano#Legislative_accomplishments'}, {'title': 'Political career', 'link': 'https://en.wikipedia.org/wiki/Alan_Peter_Cayetano#Political_career'}], 'position': 1}, {'title': 'Alan Peter Cayetano - Facebook', 'link': 'https://www.facebook.com/alanpetercayetano/', 'snippet': 'Alan Peter Cayetano. 4125413 likes · 5650 talking about this. A CHRISTian Public Servant. With a track record of integrity and performance for 28...', 'position': 2}, {'title': '\\u200eAlan Peter on Apple Music', 'link': 'https://music.apple.com/us/artist/alan-peter/1019799194', 'snippet': 'Listen to music by Alan Peter on Apple Music. Find top songs and albums by Alan Peter including String Sound, My Soul and more.', 'position': 3}, {'title': 'Senator Alan Peter \"Compañero\" S. Cayetano', 'link': 'https://legacy.senate.gov.ph/senators/sen_bio/cayetano_alanpeter_bio.asp', 'snippet': 'Meet Senator Alan. Senator Alan Peter S. · Batang Compañero. At age 22, Alan began his own journey as a public servant even while he was still in law school.', 'position': 4}, {'title': '14. cayetano, alan peter - Vote Pilipinas', 'link': 'https://votepilipinas.com/candidate/cayetano-alan.html', 'snippet': 'Alan Peter Cayetano, 51, is an incumbent lawmaker in the House of Representatives who has served in both chambers of Congress for over two decades.', 'position': 5}, {'title': 'Allan Peter - Directors Supervisor - SANTA Corporation | LinkedIn', 'link': 'https://tz.linkedin.com/in/allan-peter-a2231179', 'snippet': \"View Allan Peter's profile on LinkedIn, the world's largest professional community. Allan has 2 jobs listed on their profile. See the complete profile on ...\", 'position': 6}, {'title': 'Allan Peter Olsen - WWF Program Manager for Greenland - LinkedIn', 'link': 'https://gl.linkedin.com/in/allan-peter-olsen-7b492b7', 'snippet': \"Learn more about Allan Peter Olsen's work experience, education, connections & more by visiting their profile on LinkedIn.\", 'position': 7}, {'title': '\\u202aM.Sc., Ph.D. Allan Peter Engsig-Karup\\u202c - \\u202aGoogle Scholar\\u202c', 'link': 'https://scholar.google.com/citations?user=UbWFbIkAAAAJ&hl=en', 'snippet': 'M.Sc., Ph.D. Allan Peter Engsig-Karup. Associate Professor of Scientific Computing, Technical University of Denmark. Verified email at dtu.dk - Homepage.', 'position': 8}, {'title': 'Allan Peter Grigg | Discography - Discogs', 'link': 'https://www.discogs.com/artist/1383177-Allan-Peter-Grigg', 'snippet': 'Explore releases from Allan Peter Grigg at Discogs. Shop for Vinyl, CDs and more from Allan Peter Grigg at the Discogs Marketplace.', 'position': 9}]}\n"
          ]
        }
      ],
      "source": [
        "import requests, json\n",
        "\n",
        "def googlesearch(ToBeSearch):\n",
        "  url = \"https://google.serper.dev/search\"\n",
        "  payload = json.dumps({\n",
        "  \"q\": ToBeSearch,\n",
        "  \"gl\": \"us\",\n",
        "  \"hl\": \"en\",\n",
        "  \"autocorrect\": \"True\"\n",
        "  })\n",
        "  headers = {\n",
        "  'X-API-KEY': '835838808dd8d8c1e032da2a3169322626130910',\n",
        "  'Content-Type': 'application/json'\n",
        "  }\n",
        "  respGoogle = requests.post(url, headers=headers, data=payload)\n",
        "  print(respGoogle.json())\n",
        "\n",
        "googlesearch(\"allan peter\")"
      ]
    },
    {
      "cell_type": "code",
      "execution_count": null,
      "metadata": {
        "colab": {
          "base_uri": "https://localhost:8080/"
        },
        "id": "4JXDV6db9Vck",
        "outputId": "b04dafda-0768-411c-c08f-877b9b12f3d4"
      },
      "outputs": [
        {
          "name": "stdout",
          "output_type": "stream",
          "text": [
            "Title: Skill Definition & Meaning - Merriam-Webster\n",
            "Source: https://www.merriam-webster.com/dictionary/skill\n",
            "Discription: The meaning of SKILL is the ability to use one's knowledge effectively and readily in execution or performance. How to use skill in a sentence.\n",
            "Related: Definition Of Skill Link https://www.merriam-webster.com/dictionary/skill#:~:text=Definition%20of%20skill,-%28Entry%201%20of%202\n",
            "Related: Phrases Containing Skill Link https://www.merriam-webster.com/dictionary/skill#:~:text=Phrases%20Containing%20skill,-skill%20set\n",
            "Related: Statistics For Skill Link https://www.merriam-webster.com/dictionary/skill#:~:text=Statistics%20for%20skill\n",
            "Title: Skill - Wikipedia\n",
            "Source: https://en.wikipedia.org/wiki/Skill\n",
            "Discription: A skill is the learned ability to perform an action with determined results with good execution often within a given amount of time, energy, or both.\n",
            "Related: Hard skills Link https://en.wikipedia.org/wiki/Skill#Hard_skills\n",
            "Related: People skills Link https://en.wikipedia.org/wiki/Skill#People_skills\n",
            "Title: Examples of Skills - YourDictionary\n",
            "Source: https://examples.yourdictionary.com/examples-of-skills.html\n",
            "Discription: Skills are the expertise or talent needed in order to do a job or task. Job skills allow you to do a particular job and life skills help you through ...\n",
            "Title: SKILL | definition in the Cambridge English Dictionary\n",
            "Source: https://dictionary.cambridge.org/us/dictionary/english/skill\n",
            "Discription: an ability to do an activity or job well, especially because you have practiced it: Ruth had/possessed great writing skills. I have no skill at/in sewing.\n",
            "Title: Skill definition and meaning | Collins English Dictionary\n",
            "Source: https://www.collinsdictionary.com/us/dictionary/english/skill\n",
            "Discription: A skill is a type of work or activity which requires special training and knowledge. Most of us will know someone who is always learning new skills, or studying ...\n",
            "Title: Skill : Definition, Types, Examples and how to develop it\n",
            "Source: https://skilltypes.com/others/what-is-skill/\n",
            "Discription: A skill is the ability to perform an action with determined results, often within a given amount of time, energy, or both. In other words, Skill is the ability ...\n",
            "Title: What Are Skills? (With Tips on How to Improve Them) | Indeed.com\n",
            "Source: https://www.indeed.com/career-advice/career-development/what-are-skills\n",
            "Discription: What are skills? ... Skill is a term that encompasses the knowledge, competencies and abilities to perform operational tasks. Skills are developed through life ...\n",
            "Related: 1. Make A List Of The Skills... Link https://www.indeed.com/career-advice/career-development/what-are-skills#:~:text=1.%20Make%20a%20list%20of%20the%20skills%20you%20wish%20to%20improve\n",
            "Related: 2. Dedicate Yourself To... Link https://www.indeed.com/career-advice/career-development/what-are-skills#:~:text=2.%20Dedicate%20yourself%20to%20improving%20your%20skills%20with%20investments\n",
            "Related: 3. Set Honest Goals And... Link https://www.indeed.com/career-advice/career-development/what-are-skills#:~:text=3.%20Set%20honest%20goals%20and%20milestones\n",
            "Title: What is Skill | IGI Global\n",
            "Source: https://www.igi-global.com/dictionary/combining-local-global-expertise-services/27088\n",
            "Discription: What is Skill? Definition of Skill: Understood as a special form of capability, with the connotation of a rather specific capability useful in a specialized ...\n",
            "Title: Skill Definition & Meaning | Britannica Dictionary\n",
            "Source: https://www.britannica.com/dictionary/skill\n",
            "Discription: SKILL meaning: the ability to do something that comes from training, experience, or practice.\n"
          ]
        }
      ],
      "source": [
        "mikey = {\n",
        "  \"organic\": [\n",
        "    {\n",
        "      \"title\": \"Skill Definition & Meaning - Merriam-Webster\",\n",
        "      \"link\": \"https://www.merriam-webster.com/dictionary/skill\",\n",
        "      \"snippet\": \"The meaning of SKILL is the ability to use one's knowledge effectively and readily in execution or performance. How to use skill in a sentence.\",\n",
        "      \"sitelinks\": [\n",
        "        {\n",
        "          \"title\": \"Definition Of Skill\",\n",
        "          \"link\": \"https://www.merriam-webster.com/dictionary/skill#:~:text=Definition%20of%20skill,-%28Entry%201%20of%202\"\n",
        "        },\n",
        "        {\n",
        "          \"title\": \"Phrases Containing Skill\",\n",
        "          \"link\": \"https://www.merriam-webster.com/dictionary/skill#:~:text=Phrases%20Containing%20skill,-skill%20set\"\n",
        "        },\n",
        "        {\n",
        "          \"title\": \"Statistics For Skill\",\n",
        "          \"link\": \"https://www.merriam-webster.com/dictionary/skill#:~:text=Statistics%20for%20skill\"\n",
        "        }\n",
        "      ],\n",
        "      \"position\": 1\n",
        "    },\n",
        "    {\n",
        "      \"title\": \"Skill - Wikipedia\",\n",
        "      \"link\": \"https://en.wikipedia.org/wiki/Skill\",\n",
        "      \"snippet\": \"A skill is the learned ability to perform an action with determined results with good execution often within a given amount of time, energy, or both.\",\n",
        "      \"sitelinks\": [\n",
        "        {\n",
        "          \"title\": \"Hard skills\",\n",
        "          \"link\": \"https://en.wikipedia.org/wiki/Skill#Hard_skills\"\n",
        "        },\n",
        "        {\n",
        "          \"title\": \"People skills\",\n",
        "          \"link\": \"https://en.wikipedia.org/wiki/Skill#People_skills\"\n",
        "        }\n",
        "      ],\n",
        "      \"position\": 2\n",
        "    },\n",
        "    {\n",
        "      \"title\": \"Examples of Skills - YourDictionary\",\n",
        "      \"link\": \"https://examples.yourdictionary.com/examples-of-skills.html\",\n",
        "      \"snippet\": \"Skills are the expertise or talent needed in order to do a job or task. Job skills allow you to do a particular job and life skills help you through ...\",\n",
        "      \"position\": 3\n",
        "    },\n",
        "    {\n",
        "      \"title\": \"SKILL | definition in the Cambridge English Dictionary\",\n",
        "      \"link\": \"https://dictionary.cambridge.org/us/dictionary/english/skill\",\n",
        "      \"snippet\": \"an ability to do an activity or job well, especially because you have practiced it: Ruth had/possessed great writing skills. I have no skill at/in sewing.\",\n",
        "      \"position\": 4\n",
        "    },\n",
        "    {\n",
        "      \"title\": \"Skill definition and meaning | Collins English Dictionary\",\n",
        "      \"link\": \"https://www.collinsdictionary.com/us/dictionary/english/skill\",\n",
        "      \"snippet\": \"A skill is a type of work or activity which requires special training and knowledge. Most of us will know someone who is always learning new skills, or studying ...\",\n",
        "      \"position\": 5\n",
        "    },\n",
        "    {\n",
        "      \"title\": \"Skill : Definition, Types, Examples and how to develop it\",\n",
        "      \"link\": \"https://skilltypes.com/others/what-is-skill/\",\n",
        "      \"snippet\": \"A skill is the ability to perform an action with determined results, often within a given amount of time, energy, or both. In other words, Skill is the ability ...\",\n",
        "      \"position\": 6\n",
        "    },\n",
        "    {\n",
        "      \"title\": \"What Are Skills? (With Tips on How to Improve Them) | Indeed.com\",\n",
        "      \"link\": \"https://www.indeed.com/career-advice/career-development/what-are-skills\",\n",
        "      \"snippet\": \"What are skills? ... Skill is a term that encompasses the knowledge, competencies and abilities to perform operational tasks. Skills are developed through life ...\",\n",
        "      \"sitelinks\": [\n",
        "        {\n",
        "          \"title\": \"1. Make A List Of The Skills...\",\n",
        "          \"link\": \"https://www.indeed.com/career-advice/career-development/what-are-skills#:~:text=1.%20Make%20a%20list%20of%20the%20skills%20you%20wish%20to%20improve\"\n",
        "        },\n",
        "        {\n",
        "          \"title\": \"2. Dedicate Yourself To...\",\n",
        "          \"link\": \"https://www.indeed.com/career-advice/career-development/what-are-skills#:~:text=2.%20Dedicate%20yourself%20to%20improving%20your%20skills%20with%20investments\"\n",
        "        },\n",
        "        {\n",
        "          \"title\": \"3. Set Honest Goals And...\",\n",
        "          \"link\": \"https://www.indeed.com/career-advice/career-development/what-are-skills#:~:text=3.%20Set%20honest%20goals%20and%20milestones\"\n",
        "        }\n",
        "      ],\n",
        "      \"position\": 7\n",
        "    },\n",
        "    {\n",
        "      \"title\": \"What is Skill | IGI Global\",\n",
        "      \"link\": \"https://www.igi-global.com/dictionary/combining-local-global-expertise-services/27088\",\n",
        "      \"snippet\": \"What is Skill? Definition of Skill: Understood as a special form of capability, with the connotation of a rather specific capability useful in a specialized ...\",\n",
        "      \"position\": 8\n",
        "    },\n",
        "    {\n",
        "      \"title\": \"Skill Definition & Meaning | Britannica Dictionary\",\n",
        "      \"link\": \"https://www.britannica.com/dictionary/skill\",\n",
        "      \"snippet\": \"SKILL meaning: the ability to do something that comes from training, experience, or practice.\",\n",
        "      \"position\": 9\n",
        "    }\n",
        "  ]\n",
        "}\n",
        "\n",
        "\n",
        "for num in range(len(mikey[\"organic\"])):\n",
        "  try:\n",
        "    print(\"Title: \" + mikey[\"organic\"][num][\"title\"])\n",
        "    print(\"Source: \" + mikey[\"organic\"][num][\"link\"])\n",
        "    print(\"Discription: \" + mikey[\"organic\"][num][\"snippet\"])\n",
        "    for numlinks in range(len(mikey[\"organic\"][num][\"sitelinks\"])):\n",
        "      print(\"Related: \" + mikey[\"organic\"][num][\"sitelinks\"][numlinks][\"title\"] + \" Link: \" + mikey[\"organic\"][num][\"sitelinks\"][numlinks][\"link\"])\n",
        "  except:\n",
        "    pass"
      ]
    },
    {
      "cell_type": "code",
      "execution_count": null,
      "metadata": {
        "colab": {
          "base_uri": "https://localhost:8080/"
        },
        "id": "ZY_495wEEOsX",
        "outputId": "d1b72380-1744-453c-d435-8b258589d149"
      },
      "outputs": [
        {
          "name": "stdout",
          "output_type": "stream",
          "text": [
            "Hello\n"
          ]
        }
      ],
      "source": [
        "quant = \"HI Hello\"\n",
        "quant = quant.split(\" \").pop()\n",
        "print(quant)"
      ]
    },
    {
      "cell_type": "code",
      "execution_count": null,
      "metadata": {
        "colab": {
          "background_save": true
        },
        "id": "EW5Qz6UaIySb",
        "outputId": "fce6e873-90ea-4073-aad5-1e088e734071"
      },
      "outputs": [
        {
          "ename": "ValueError",
          "evalue": "ignored",
          "output_type": "error",
          "traceback": [
            "\u001b[0;31m---------------------------------------------------------------------------\u001b[0m",
            "\u001b[0;31mValueError\u001b[0m                                Traceback (most recent call last)",
            "\u001b[0;32m<ipython-input-51-942267b745f6>\u001b[0m in \u001b[0;36m<module>\u001b[0;34m\u001b[0m\n\u001b[1;32m     38\u001b[0m                     \u001b[0;32mpass\u001b[0m\u001b[0;34m\u001b[0m\u001b[0;34m\u001b[0m\u001b[0m\n\u001b[1;32m     39\u001b[0m \u001b[0;34m\u001b[0m\u001b[0m\n\u001b[0;32m---> 40\u001b[0;31m \u001b[0mgooglesearch\u001b[0m\u001b[0;34m(\u001b[0m\u001b[0;34m\"mikey\"\u001b[0m\u001b[0;34m,\u001b[0m\u001b[0;34m\"awdawdawd\"\u001b[0m\u001b[0;34m)\u001b[0m\u001b[0;34m\u001b[0m\u001b[0;34m\u001b[0m\u001b[0m\n\u001b[0m",
            "\u001b[0;32m<ipython-input-51-942267b745f6>\u001b[0m in \u001b[0;36mgooglesearch\u001b[0;34m(ToBeSearch, quant)\u001b[0m\n\u001b[1;32m     13\u001b[0m             \u001b[0mrespGoogle\u001b[0m \u001b[0;34m=\u001b[0m \u001b[0mrequests\u001b[0m\u001b[0;34m.\u001b[0m\u001b[0mpost\u001b[0m\u001b[0;34m(\u001b[0m\u001b[0murl\u001b[0m\u001b[0;34m,\u001b[0m \u001b[0mheaders\u001b[0m\u001b[0;34m=\u001b[0m\u001b[0mheaders\u001b[0m\u001b[0;34m,\u001b[0m \u001b[0mdata\u001b[0m\u001b[0;34m=\u001b[0m\u001b[0mpayload\u001b[0m\u001b[0;34m)\u001b[0m\u001b[0;34m\u001b[0m\u001b[0;34m\u001b[0m\u001b[0m\n\u001b[1;32m     14\u001b[0m             \u001b[0mmikey\u001b[0m \u001b[0;34m=\u001b[0m \u001b[0mrespGoogle\u001b[0m\u001b[0;34m.\u001b[0m\u001b[0mjson\u001b[0m\u001b[0;34m(\u001b[0m\u001b[0;34m)\u001b[0m\u001b[0;34m\u001b[0m\u001b[0;34m\u001b[0m\u001b[0m\n\u001b[0;32m---> 15\u001b[0;31m             \u001b[0mquant\u001b[0m \u001b[0;34m=\u001b[0m \u001b[0mint\u001b[0m\u001b[0;34m(\u001b[0m\u001b[0mquant\u001b[0m\u001b[0;34m.\u001b[0m\u001b[0msplit\u001b[0m\u001b[0;34m(\u001b[0m\u001b[0;34m\" \"\u001b[0m\u001b[0;34m)\u001b[0m\u001b[0;34m.\u001b[0m\u001b[0mpop\u001b[0m\u001b[0;34m(\u001b[0m\u001b[0;34m)\u001b[0m\u001b[0;34m)\u001b[0m\u001b[0;34m\u001b[0m\u001b[0;34m\u001b[0m\u001b[0m\n\u001b[0m\u001b[1;32m     16\u001b[0m             \u001b[0;32mif\u001b[0m \u001b[0;34m(\u001b[0m\u001b[0mtype\u001b[0m\u001b[0;34m(\u001b[0m\u001b[0mquant\u001b[0m\u001b[0;34m)\u001b[0m \u001b[0;34m!=\u001b[0m \u001b[0mint\u001b[0m\u001b[0;34m)\u001b[0m\u001b[0;34m:\u001b[0m\u001b[0;34m\u001b[0m\u001b[0;34m\u001b[0m\u001b[0m\n\u001b[1;32m     17\u001b[0m                 \u001b[0;32mfor\u001b[0m \u001b[0mnum\u001b[0m \u001b[0;32min\u001b[0m \u001b[0mrange\u001b[0m\u001b[0;34m(\u001b[0m\u001b[0mlen\u001b[0m\u001b[0;34m(\u001b[0m\u001b[0mmikey\u001b[0m\u001b[0;34m[\u001b[0m\u001b[0;34m\"organic\"\u001b[0m\u001b[0;34m]\u001b[0m\u001b[0;34m)\u001b[0m\u001b[0;34m)\u001b[0m\u001b[0;34m:\u001b[0m\u001b[0;34m\u001b[0m\u001b[0;34m\u001b[0m\u001b[0m\n",
            "\u001b[0;31mValueError\u001b[0m: invalid literal for int() with base 10: 'awdawdawd'"
          ]
        }
      ],
      "source": [
        "def googlesearch(ToBeSearch,quant):\n",
        "            url = \"https://google.serper.dev/search\"\n",
        "            payload = json.dumps({\n",
        "              \"q\": ToBeSearch,\n",
        "              \"gl\": \"us\",\n",
        "              \"hl\": \"en\",\n",
        "              \"autocorrect\": \"True\"\n",
        "            })\n",
        "            headers = {\n",
        "              'X-API-KEY': '835838808dd8d8c1e032da2a3169322626130910',\n",
        "              'Content-Type': 'application/json'\n",
        "            }\n",
        "            respGoogle = requests.post(url, headers=headers, data=payload)\n",
        "            mikey = respGoogle.json()\n",
        "            quant = int(quant.split(\" \").pop())\n",
        "            if (type(quant) != int):\n",
        "                for num in range(len(mikey[\"organic\"])):\n",
        "                    try:\n",
        "                        reply = \"Title: \" + mikey[\"organic\"][num][\"title\"] + \"\\n\" + \"Source: \" + mikey[\"organic\"][num][\"link\"] + \"\\n\" + \"Discription: \" + mikey[\"organic\"][num][\"snippet\"]\n",
        "                        print(reply)\n",
        "                        #sendMsg()\n",
        "                        for numlinks in range(len(mikey[\"organic\"][num][\"sitelinks\"])):\n",
        "                            reply = \"Maybe can help you: \" + mikey[\"organic\"][num][\"sitelinks\"][numlinks][\"title\"] + \" Link: \" + mikey[\"organic\"][num][\"sitelinks\"][numlinks][\"link\"]\n",
        "                            print(reply)\n",
        "                            #sendMsg()\n",
        "                    except:\n",
        "                        pass\n",
        "            else:\n",
        "                try:\n",
        "                    reply = \"Title: \" + mikey[\"organic\"][quant][\"title\"] + \"\\n\" + \"Source: \" + mikey[\"organic\"][num][\"link\"] + \"\\n\" + \"Discription: \" + mikey[\"organic\"][num][\"snippet\"]\n",
        "                    #sendMsg()\n",
        "                    print(reply)\n",
        "                    for numlinks in range(len(mikey[\"organic\"][num][\"sitelinks\"])):\n",
        "                        reply = \"Maybe can help you: \" + mikey[\"organic\"][num][\"sitelinks\"][numlinks][\"title\"] + \" Link: \" + mikey[\"organic\"][num][\"sitelinks\"][numlinks][\"link\"]\n",
        "                        #sendMsg()\n",
        "                        print(reply)\n",
        "                except:\n",
        "                    pass\n",
        "\n",
        "googlesearch(\"mikey\",\"awdawdawd\")"
      ]
    },
    {
      "cell_type": "code",
      "execution_count": null,
      "metadata": {
        "colab": {
          "base_uri": "https://localhost:8080/"
        },
        "id": "4LXHO7B7JmgE",
        "outputId": "2b299826-8c6d-4e37-ed7f-a253db30aa32"
      },
      "outputs": [
        {
          "data": {
            "text/plain": [
              "int"
            ]
          },
          "execution_count": 48,
          "metadata": {},
          "output_type": "execute_result"
        }
      ],
      "source": [
        "type(int(\"1\"))"
      ]
    }
  ],
  "metadata": {
    "colab": {
      "provenance": [],
      "authorship_tag": "ABX9TyMw4M1rriS39iO+w78zca4z",
      "include_colab_link": true
    },
    "kernelspec": {
      "display_name": "Python 3",
      "name": "python3"
    },
    "language_info": {
      "name": "python"
    }
  },
  "nbformat": 4,
  "nbformat_minor": 0
}